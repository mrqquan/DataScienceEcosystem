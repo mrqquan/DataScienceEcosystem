{
 "cells": [
  {
   "cell_type": "markdown",
   "id": "42fd34e4-3a3a-419b-bd9b-92f4474c077d",
   "metadata": {},
   "source": [
    "# Data Science Tools and Ecosystem"
   ]
  },
  {
   "cell_type": "markdown",
   "id": "71786808-290b-4ce8-9dc3-acce9ec5dc35",
   "metadata": {},
   "source": [
    "In this notebook, Data Science Tools and Ecosystem and summarized."
   ]
  },
  {
   "cell_type": "markdown",
   "id": "464466bd-c1cd-4f74-8ac7-3a8124458b96",
   "metadata": {},
   "source": [
    "**Objectives:**\n",
    "+ List popular languages for Data Science\n",
    "+ List commonly used libraries used by Data Scientists\n",
    "+ List some development environment open source tools used in data science\n",
    "+ Examples of evaluating arithmetic expressions in Python"
   ]
  },
  {
   "cell_type": "markdown",
   "id": "359919b0-30c8-4cf1-a4b9-12fca3adc4af",
   "metadata": {},
   "source": [
    "Some of the popular languages that Data Scientists use are:"
   ]
  },
  {
   "cell_type": "markdown",
   "id": "caf0bbfb-13ed-437e-ba6a-7b4b7c589c3d",
   "metadata": {},
   "source": [
    "1. Python\n",
    "2. R\n",
    "3. SQL\n",
    "4. Javascript"
   ]
  },
  {
   "cell_type": "markdown",
   "id": "14b5ca8e-b039-4108-b55a-d538c4aa78e2",
   "metadata": {},
   "source": [
    "Some of the commonly used libraries used by Data Scientists include:"
   ]
  },
  {
   "cell_type": "markdown",
   "id": "596c1594-0cca-4d54-8fa6-9818d4d30586",
   "metadata": {},
   "source": [
    "1. Pandas\n",
    "2. NumPy\n",
    "3. SciPy\n",
    "4. Matplotlib"
   ]
  },
  {
   "cell_type": "markdown",
   "id": "c24ff4ee-879a-4c40-944c-ee1df1f71713",
   "metadata": {},
   "source": [
    "| Data Science Tools |\n",
    "| ------------------ |\n",
    "| Jupyter Notebooks  |\n",
    "| Jupyter Lab        |\n",
    "| RStudio            |\n",
    "| Spyder             |"
   ]
  },
  {
   "cell_type": "markdown",
   "id": "1eecf3ba-4d47-4df0-b218-aeb523c11e40",
   "metadata": {},
   "source": [
    "### Below are a few examples of evaluating arithmetic expressions in Python"
   ]
  },
  {
   "cell_type": "code",
   "execution_count": 5,
   "id": "7ba148dd-2e95-417d-837d-4d2155a986a8",
   "metadata": {},
   "outputs": [
    {
     "data": {
      "text/plain": [
       "17"
      ]
     },
     "execution_count": 5,
     "metadata": {},
     "output_type": "execute_result"
    }
   ],
   "source": [
    "# This is a simple arithmetic expression to multiply then add integers.\n",
    "(3*4)+5"
   ]
  },
  {
   "cell_type": "code",
   "execution_count": 6,
   "id": "da103b2a-b9d6-4e27-bafc-d453f3fb97cc",
   "metadata": {},
   "outputs": [],
   "source": [
    "# This will convert 200 minutes to hours by dividing by 60"
   ]
  },
  {
   "cell_type": "code",
   "execution_count": 10,
   "id": "dace5c84-5a6d-42f0-9c3e-1ac511ad2ac4",
   "metadata": {},
   "outputs": [
    {
     "data": {
      "text/plain": [
       "3.33"
      ]
     },
     "execution_count": 10,
     "metadata": {},
     "output_type": "execute_result"
    }
   ],
   "source": [
    "round(200 / 60,2)"
   ]
  },
  {
   "cell_type": "markdown",
   "id": "720ceeda-8a38-4087-950a-16c616fe6e6b",
   "metadata": {},
   "source": [
    "## Author\n",
    "Elton Tee"
   ]
  },
  {
   "cell_type": "code",
   "execution_count": null,
   "id": "0c029fbc-44e3-4066-b097-62b8b52de19c",
   "metadata": {},
   "outputs": [],
   "source": []
  }
 ],
 "metadata": {
  "kernelspec": {
   "display_name": "Python 3 (ipykernel)",
   "language": "python",
   "name": "python3"
  },
  "language_info": {
   "codemirror_mode": {
    "name": "ipython",
    "version": 3
   },
   "file_extension": ".py",
   "mimetype": "text/x-python",
   "name": "python",
   "nbconvert_exporter": "python",
   "pygments_lexer": "ipython3",
   "version": "3.7.1"
  }
 },
 "nbformat": 4,
 "nbformat_minor": 5
}
